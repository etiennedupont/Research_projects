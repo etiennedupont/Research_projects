{
 "cells": [
  {
   "cell_type": "markdown",
   "metadata": {},
   "source": [
    "# PIE - Using multiple features for classification"
   ]
  },
  {
   "cell_type": "markdown",
   "metadata": {},
   "source": [
    "In this notebook, we will train different types of classifiers on the features we lately found out and visualized."
   ]
  },
  {
   "cell_type": "code",
   "execution_count": 1,
   "metadata": {
    "scrolled": true
   },
   "outputs": [
    {
     "name": "stderr",
     "output_type": "stream",
     "text": [
      "/home/lucas/anaconda3/envs/sdd/lib/python3.6/site-packages/h5py/__init__.py:36: FutureWarning: Conversion of the second argument of issubdtype from `float` to `np.floating` is deprecated. In future, it will be treated as `np.float64 == np.dtype(float).type`.\n",
      "  from ._conv import register_converters as _register_converters\n",
      "Using TensorFlow backend.\n"
     ]
    }
   ],
   "source": [
    "from pie_utils import *\n",
    "import matplotlib.pyplot as plt\n",
    "from sklearn.model_selection import train_test_split\n",
    "\n",
    "#Classifiers and utils\n",
    "from sklearn.metrics import confusion_matrix, classification_report, accuracy_score\n",
    "from sklearn.preprocessing import LabelEncoder, scale\n",
    "from keras.utils import to_categorical\n",
    "\n",
    "from sklearn import svm\n",
    "\n",
    "from sklearn.naive_bayes import GaussianNB\n",
    "\n",
    "from sklearn.neural_network import MLPClassifier\n",
    "\n",
    "from keras.models import Sequential\n",
    "from keras.layers import Dense, Activation\n",
    "import keras.metrics as metrics\n",
    "import keras.losses as losses\n",
    "import keras.optimizers as optimizers\n",
    "\n",
    "#from xgboost import XGBClassifier"
   ]
  },
  {
   "cell_type": "code",
   "execution_count": 2,
   "metadata": {},
   "outputs": [],
   "source": [
    "#The datapath depends on the configuration of your own folder PIE. Check your data path out !\n",
    "datapath = './' #directory where audio files are\n",
    "#datapath = \"../../data/\" \n",
    "\n",
    "train = pd.read_csv(osp.join(datapath,\"data-PIE-Sonar.csv\"))"
   ]
  },
  {
   "cell_type": "markdown",
   "metadata": {},
   "source": [
    "## Data preprocessing & features gathering"
   ]
  },
  {
   "cell_type": "markdown",
   "metadata": {},
   "source": [
    "### Gathering raw data"
   ]
  },
  {
   "cell_type": "code",
   "execution_count": 3,
   "metadata": {},
   "outputs": [],
   "source": [
    "# Let's try with MFCC features\n",
    "#the following dict is convenient to use for the \"apply\" that come after that)\n",
    "data_path = osp.join('./audio-PIE-Sonar/','audio_train/') # To be changed according to YOUR data directory\n",
    "kwargs = {'data_directory_path': data_path,  \n",
    "          'n_mfcc': 20,\n",
    "          'trim': True}\n",
    "\n",
    "X = train.apply(lambda x : parser_mfcc(x, **kwargs),axis=1)\n",
    "# => We may want to use another feature, just change the parser used in the function above"
   ]
  },
  {
   "cell_type": "code",
   "execution_count": 4,
   "metadata": {},
   "outputs": [],
   "source": [
    "Y = train['label']\n",
    "list_labels = train.label.unique()\n",
    "list_labels.sort()"
   ]
  },
  {
   "cell_type": "code",
   "execution_count": 5,
   "metadata": {},
   "outputs": [
    {
     "data": {
      "text/plain": [
       "<function BufferedWriter.close>"
      ]
     },
     "execution_count": 5,
     "metadata": {},
     "output_type": "execute_result"
    }
   ],
   "source": [
    "#Saving heavy data to gain time\n",
    "import pickle\n",
    "import os.path\n",
    "fname = 'store_20mfcc_trimmed.pckl'\n",
    "\n",
    "if os.path.isfile(fname):\n",
    "    f = open(fname, 'rb')\n",
    "    X = pickle.load(f)\n",
    "else:\n",
    "    f = open(fname, 'wb')\n",
    "    pickle.dump(X, f)\n",
    "f.close"
   ]
  },
  {
   "cell_type": "markdown",
   "metadata": {},
   "source": [
    "### Preprocessing"
   ]
  },
  {
   "cell_type": "code",
   "execution_count": 6,
   "metadata": {},
   "outputs": [],
   "source": [
    "#Scaling X\n",
    "X0 = X[0].tolist() #just extracting X as an array\n",
    "X_scaled = scale(X0)\n",
    "\n",
    "#One hot encoding Y\n",
    "label_encoder = LabelEncoder()\n",
    "Y_cat = label_encoder.fit_transform(Y)"
   ]
  },
  {
   "cell_type": "code",
   "execution_count": 29,
   "metadata": {},
   "outputs": [
    {
     "name": "stdout",
     "output_type": "stream",
     "text": [
      "(9473, 20)\n"
     ]
    }
   ],
   "source": [
    "print(X_scaled.shape)"
   ]
  },
  {
   "cell_type": "markdown",
   "metadata": {},
   "source": [
    "### Extracting training and test sets"
   ]
  },
  {
   "cell_type": "code",
   "execution_count": 7,
   "metadata": {},
   "outputs": [],
   "source": [
    "X_train, X_test, y_train, y_test = train_test_split(X_scaled, Y_cat, stratify=Y_cat, test_size=0.33)\n",
    "\n",
    "#Useful for NN\n",
    "y_train_ohe = to_categorical(y_train)\n",
    "y_test_ohe = to_categorical(y_test)"
   ]
  },
  {
   "cell_type": "markdown",
   "metadata": {},
   "source": [
    "## Training a bayesian model"
   ]
  },
  {
   "cell_type": "markdown",
   "metadata": {},
   "source": [
    "### Training and predicting"
   ]
  },
  {
   "cell_type": "code",
   "execution_count": 8,
   "metadata": {},
   "outputs": [
    {
     "data": {
      "text/plain": [
       "GaussianNB(priors=None)"
      ]
     },
     "execution_count": 8,
     "metadata": {},
     "output_type": "execute_result"
    }
   ],
   "source": [
    "gnb = GaussianNB()\n",
    "gnb.fit(X_train, y_train)"
   ]
  },
  {
   "cell_type": "code",
   "execution_count": 9,
   "metadata": {},
   "outputs": [],
   "source": [
    "prediction = gnb.predict(X_test)"
   ]
  },
  {
   "cell_type": "markdown",
   "metadata": {},
   "source": [
    "### Assessing accuracy"
   ]
  },
  {
   "cell_type": "code",
   "execution_count": 10,
   "metadata": {},
   "outputs": [
    {
     "name": "stdout",
     "output_type": "stream",
     "text": [
      "Accuracy: \n",
      "0.3795970578829549\n",
      "\n",
      "\n",
      "\n",
      "Confusion matrix: \n",
      "[[44  0  0 ...  1  2  1]\n",
      " [ 0 75  2 ...  0  0  1]\n",
      " [ 0  1 28 ...  1  1  0]\n",
      " ...\n",
      " [ 3  4  4 ... 16  3  0]\n",
      " [ 2  2  0 ...  1 50  0]\n",
      " [ 1  2  0 ...  1  1 18]]\n",
      "\n",
      "\n",
      "\n",
      "                       precision    recall  f1-score   support\n",
      "\n",
      "      Acoustic_guitar       0.47      0.44      0.46        99\n",
      "             Applause       0.56      0.76      0.64        99\n",
      "                 Bark       0.36      0.35      0.36        79\n",
      "            Bass_drum       0.45      0.76      0.57        99\n",
      "Burping_or_eructation       0.70      0.61      0.65        69\n",
      "                  Bus       0.22      0.11      0.15        36\n",
      "                Cello       0.52      0.47      0.50        99\n",
      "                Chime       0.27      0.18      0.22        38\n",
      "             Clarinet       0.63      0.61      0.62        99\n",
      "    Computer_keyboard       0.19      0.23      0.21        39\n",
      "                Cough       0.38      0.28      0.32        80\n",
      "              Cowbell       0.73      0.73      0.73        63\n",
      "          Double_bass       0.53      0.63      0.57        99\n",
      " Drawer_open_or_close       0.27      0.12      0.16        52\n",
      "       Electric_piano       0.39      0.38      0.38        50\n",
      "                 Fart       0.29      0.21      0.24        99\n",
      "      Finger_snapping       0.84      0.41      0.55        39\n",
      "            Fireworks       0.11      0.13      0.12        99\n",
      "                Flute       0.33      0.35      0.34        99\n",
      "         Glockenspiel       0.41      0.35      0.38        31\n",
      "                 Gong       0.27      0.12      0.17        96\n",
      "   Gunshot_or_gunfire       0.14      0.39      0.20        49\n",
      "            Harmonica       0.32      0.33      0.32        55\n",
      "               Hi-hat       0.37      0.30      0.33        99\n",
      "        Keys_jangling       0.34      0.46      0.39        46\n",
      "                Knock       0.19      0.30      0.24        92\n",
      "             Laughter       0.24      0.16      0.19        99\n",
      "                 Meow       0.36      0.25      0.30        51\n",
      "       Microwave_oven       0.22      0.04      0.07        48\n",
      "                 Oboe       0.66      0.68      0.67        99\n",
      "            Saxophone       0.45      0.31      0.37        99\n",
      "             Scissors       0.20      0.03      0.06        31\n",
      "              Shatter       0.26      0.29      0.28        99\n",
      "           Snare_drum       0.31      0.65      0.42        99\n",
      "               Squeak       0.12      0.05      0.07        99\n",
      "           Tambourine       0.82      0.62      0.70        73\n",
      "              Tearing       0.25      0.43      0.31        99\n",
      "            Telephone       0.36      0.42      0.39        40\n",
      "              Trumpet       0.36      0.16      0.22        99\n",
      "     Violin_or_fiddle       0.50      0.51      0.50        99\n",
      "              Writing       0.25      0.20      0.23        89\n",
      "\n",
      "          avg / total       0.39      0.38      0.37      3127\n",
      "\n"
     ]
    }
   ],
   "source": [
    "print(\"Accuracy: \")\n",
    "print(accuracy_score(y_test, prediction))\n",
    "print(\"\\n\\n\")\n",
    "print(\"Confusion matrix: \")\n",
    "print(confusion_matrix(y_test, prediction))\n",
    "print(\"\\n\\n\")\n",
    "print(classification_report(y_test, prediction, target_names=list_labels))"
   ]
  },
  {
   "cell_type": "markdown",
   "metadata": {},
   "source": [
    "## Training a SVM"
   ]
  },
  {
   "cell_type": "markdown",
   "metadata": {},
   "source": [
    "### Training and predicting"
   ]
  },
  {
   "cell_type": "code",
   "execution_count": 11,
   "metadata": {},
   "outputs": [
    {
     "data": {
      "text/plain": [
       "SVC(C=1.0, cache_size=200, class_weight=None, coef0=0.0,\n",
       "  decision_function_shape='ovr', degree=3, gamma=0.011, kernel='rbf',\n",
       "  max_iter=-1, probability=False, random_state=None, shrinking=True,\n",
       "  tol=0.001, verbose=False)"
      ]
     },
     "execution_count": 11,
     "metadata": {},
     "output_type": "execute_result"
    }
   ],
   "source": [
    "#svc = svm.SVC(kernel='linear', gamma=1e-3) # Seem not to work\n",
    "svc = svm.SVC(kernel='rbf', gamma=11e-3) #gamma here is tunned at 1e-3 resolution\n",
    "svc.fit(X_train,y_train)"
   ]
  },
  {
   "cell_type": "code",
   "execution_count": 1,
   "metadata": {},
   "outputs": [
    {
     "ename": "NameError",
     "evalue": "name 'svc' is not defined",
     "output_type": "error",
     "traceback": [
      "\u001b[0;31m---------------------------------------------------------------------------\u001b[0m",
      "\u001b[0;31mNameError\u001b[0m                                 Traceback (most recent call last)",
      "\u001b[0;32m<ipython-input-1-447b9204bb87>\u001b[0m in \u001b[0;36m<module>\u001b[0;34m()\u001b[0m\n\u001b[0;32m----> 1\u001b[0;31m \u001b[0mprediction\u001b[0m \u001b[0;34m=\u001b[0m \u001b[0msvc\u001b[0m\u001b[0;34m.\u001b[0m\u001b[0mpredict\u001b[0m\u001b[0;34m(\u001b[0m\u001b[0mX_test\u001b[0m\u001b[0;34m)\u001b[0m\u001b[0;34m\u001b[0m\u001b[0m\n\u001b[0m",
      "\u001b[0;31mNameError\u001b[0m: name 'svc' is not defined"
     ]
    }
   ],
   "source": [
    "prediction = svc.predict(X_test)"
   ]
  },
  {
   "cell_type": "markdown",
   "metadata": {},
   "source": [
    "### Assessing accuracy"
   ]
  },
  {
   "cell_type": "code",
   "execution_count": 13,
   "metadata": {},
   "outputs": [
    {
     "name": "stdout",
     "output_type": "stream",
     "text": [
      "Accuracy: \n",
      "0.4723377038695235\n",
      "\n",
      "\n",
      "\n",
      "Confusion matrix: \n",
      "[[49  0  1 ...  0  1  2]\n",
      " [ 0 82  1 ...  0  0  2]\n",
      " [ 0  7 46 ...  1  0  4]\n",
      " ...\n",
      " [ 3  3  4 ... 27  2  2]\n",
      " [ 0  1  0 ...  1 72  0]\n",
      " [ 2  3  2 ...  0  0 49]]\n",
      "\n",
      "\n",
      "\n",
      "                       precision    recall  f1-score   support\n",
      "\n",
      "      Acoustic_guitar       0.54      0.49      0.52        99\n",
      "             Applause       0.55      0.83      0.66        99\n",
      "                 Bark       0.40      0.58      0.48        79\n",
      "            Bass_drum       0.55      0.84      0.66        99\n",
      "Burping_or_eructation       0.75      0.70      0.72        69\n",
      "                  Bus       0.00      0.00      0.00        36\n",
      "                Cello       0.58      0.66      0.62        99\n",
      "                Chime       0.67      0.16      0.26        38\n",
      "             Clarinet       0.69      0.67      0.68        99\n",
      "    Computer_keyboard       0.00      0.00      0.00        39\n",
      "                Cough       0.36      0.33      0.34        80\n",
      "              Cowbell       0.90      0.75      0.82        63\n",
      "          Double_bass       0.53      0.74      0.61        99\n",
      " Drawer_open_or_close       0.00      0.00      0.00        52\n",
      "       Electric_piano       0.47      0.42      0.44        50\n",
      "                 Fart       0.26      0.45      0.33        99\n",
      "      Finger_snapping       0.76      0.56      0.65        39\n",
      "            Fireworks       0.18      0.28      0.22        99\n",
      "                Flute       0.43      0.48      0.46        99\n",
      "         Glockenspiel       0.86      0.19      0.32        31\n",
      "                 Gong       0.63      0.32      0.43        96\n",
      "   Gunshot_or_gunfire       0.00      0.00      0.00        49\n",
      "            Harmonica       0.67      0.51      0.58        55\n",
      "               Hi-hat       0.58      0.70      0.63        99\n",
      "        Keys_jangling       0.60      0.33      0.42        46\n",
      "                Knock       0.33      0.37      0.35        92\n",
      "             Laughter       0.33      0.18      0.23        99\n",
      "                 Meow       0.61      0.27      0.38        51\n",
      "       Microwave_oven       0.67      0.04      0.08        48\n",
      "                 Oboe       0.70      0.96      0.81        99\n",
      "            Saxophone       0.54      0.57      0.55        99\n",
      "             Scissors       0.00      0.00      0.00        31\n",
      "              Shatter       0.33      0.44      0.38        99\n",
      "           Snare_drum       0.53      0.66      0.59        99\n",
      "               Squeak       0.12      0.07      0.09        99\n",
      "           Tambourine       0.78      0.70      0.74        73\n",
      "              Tearing       0.24      0.33      0.28        99\n",
      "            Telephone       1.00      0.15      0.26        40\n",
      "              Trumpet       0.46      0.27      0.34        99\n",
      "     Violin_or_fiddle       0.63      0.73      0.67        99\n",
      "              Writing       0.24      0.55      0.34        89\n",
      "\n",
      "          avg / total       0.47      0.47      0.45      3127\n",
      "\n"
     ]
    },
    {
     "name": "stderr",
     "output_type": "stream",
     "text": [
      "/home/lucas/anaconda3/envs/sdd/lib/python3.6/site-packages/sklearn/metrics/classification.py:1135: UndefinedMetricWarning: Precision and F-score are ill-defined and being set to 0.0 in labels with no predicted samples.\n",
      "  'precision', 'predicted', average, warn_for)\n"
     ]
    }
   ],
   "source": [
    "print(\"Accuracy: \")\n",
    "print(accuracy_score(y_test, prediction))\n",
    "print(\"\\n\\n\")\n",
    "print(\"Confusion matrix: \")\n",
    "print(confusion_matrix(y_test, prediction))\n",
    "print(\"\\n\\n\")\n",
    "print(classification_report(y_test, prediction, target_names=list_labels))"
   ]
  },
  {
   "cell_type": "markdown",
   "metadata": {},
   "source": [
    "## Training a neural network"
   ]
  },
  {
   "cell_type": "markdown",
   "metadata": {},
   "source": [
    "### Training and predicting"
   ]
  },
  {
   "cell_type": "code",
   "execution_count": 22,
   "metadata": {},
   "outputs": [],
   "source": [
    "model = Sequential()\n",
    "model.add(Dense(units=64, activation='relu', input_dim=np.shape(X_train)[1]))\n",
    "model.add(Dense(units=128, activation='relu'))\n",
    "model.add(Dense(units=256, activation='relu'))\n",
    "model.add(Dense(units=128, activation='relu'))\n",
    "model.add(Dense(units=64, activation='relu'))\n",
    "model.add(Dense(units=41, activation='softmax'))\n",
    "\n",
    "\n",
    "def top3_acc(ytrue, ypred):\n",
    "    return metrics.top_k_categorical_accuracy(ytrue, ypred, k=3)\n",
    "\n",
    "model.compile(loss=losses.categorical_crossentropy,\n",
    "              optimizer=optimizers.Adam(),\n",
    "              metrics=[metrics.categorical_accuracy, top3_acc])"
   ]
  },
  {
   "cell_type": "code",
   "execution_count": 23,
   "metadata": {},
   "outputs": [
    {
     "name": "stdout",
     "output_type": "stream",
     "text": [
      "Train on 5076 samples, validate on 1270 samples\n",
      "Epoch 1/100\n",
      "5076/5076 [==============================] - 4s 734us/step - loss: 3.5271 - categorical_accuracy: 0.0967 - top3_acc: 0.2179 - val_loss: 3.3051 - val_categorical_accuracy: 0.1606 - val_top3_acc: 0.3283\n",
      "Epoch 2/100\n",
      "5076/5076 [==============================] - 1s 194us/step - loss: 3.0069 - categorical_accuracy: 0.2392 - top3_acc: 0.4171 - val_loss: 2.8272 - val_categorical_accuracy: 0.2732 - val_top3_acc: 0.4787\n",
      "Epoch 3/100\n",
      "5076/5076 [==============================] - 1s 217us/step - loss: 2.5915 - categorical_accuracy: 0.3182 - top3_acc: 0.5258 - val_loss: 2.5680 - val_categorical_accuracy: 0.3197 - val_top3_acc: 0.5283\n",
      "Epoch 4/100\n",
      "5076/5076 [==============================] - 1s 206us/step - loss: 2.3461 - categorical_accuracy: 0.3690 - top3_acc: 0.5839 - val_loss: 2.4111 - val_categorical_accuracy: 0.3465 - val_top3_acc: 0.5677\n",
      "Epoch 5/100\n",
      "5076/5076 [==============================] - 1s 245us/step - loss: 2.1920 - categorical_accuracy: 0.4037 - top3_acc: 0.6182 - val_loss: 2.3235 - val_categorical_accuracy: 0.3945 - val_top3_acc: 0.5921\n",
      "Epoch 6/100\n",
      "5076/5076 [==============================] - 1s 230us/step - loss: 2.1032 - categorical_accuracy: 0.4310 - top3_acc: 0.6432 - val_loss: 2.2911 - val_categorical_accuracy: 0.3913 - val_top3_acc: 0.5929\n",
      "Epoch 7/100\n",
      "5076/5076 [==============================] - 1s 231us/step - loss: 2.0044 - categorical_accuracy: 0.4602 - top3_acc: 0.6665 - val_loss: 2.2010 - val_categorical_accuracy: 0.4094 - val_top3_acc: 0.6063\n",
      "Epoch 8/100\n",
      "5076/5076 [==============================] - 1s 213us/step - loss: 1.9284 - categorical_accuracy: 0.4771 - top3_acc: 0.6840 - val_loss: 2.1523 - val_categorical_accuracy: 0.4315 - val_top3_acc: 0.6268\n",
      "Epoch 9/100\n",
      "5076/5076 [==============================] - 1s 275us/step - loss: 1.8807 - categorical_accuracy: 0.4901 - top3_acc: 0.6939 - val_loss: 2.1569 - val_categorical_accuracy: 0.4402 - val_top3_acc: 0.6378\n",
      "Epoch 10/100\n",
      "5076/5076 [==============================] - 1s 263us/step - loss: 1.8099 - categorical_accuracy: 0.5024 - top3_acc: 0.7104 - val_loss: 2.1179 - val_categorical_accuracy: 0.4331 - val_top3_acc: 0.6354\n",
      "Epoch 11/100\n",
      "5076/5076 [==============================] - 1s 182us/step - loss: 1.7526 - categorical_accuracy: 0.5171 - top3_acc: 0.7238 - val_loss: 2.1067 - val_categorical_accuracy: 0.4370 - val_top3_acc: 0.6417\n",
      "Epoch 12/100\n",
      "5076/5076 [==============================] - 1s 222us/step - loss: 1.7199 - categorical_accuracy: 0.5323 - top3_acc: 0.7297 - val_loss: 2.0541 - val_categorical_accuracy: 0.4748 - val_top3_acc: 0.6591\n",
      "Epoch 13/100\n",
      "5076/5076 [==============================] - 1s 236us/step - loss: 1.6480 - categorical_accuracy: 0.5437 - top3_acc: 0.7455 - val_loss: 2.0398 - val_categorical_accuracy: 0.4661 - val_top3_acc: 0.6622\n",
      "Epoch 14/100\n",
      "5076/5076 [==============================] - 1s 219us/step - loss: 1.5897 - categorical_accuracy: 0.5652 - top3_acc: 0.7618 - val_loss: 2.0211 - val_categorical_accuracy: 0.4701 - val_top3_acc: 0.6622\n",
      "Epoch 15/100\n",
      "5076/5076 [==============================] - 1s 260us/step - loss: 1.5494 - categorical_accuracy: 0.5768 - top3_acc: 0.7662 - val_loss: 2.0226 - val_categorical_accuracy: 0.4843 - val_top3_acc: 0.6685\n",
      "Epoch 16/100\n",
      "5076/5076 [==============================] - 1s 224us/step - loss: 1.5166 - categorical_accuracy: 0.5788 - top3_acc: 0.7697 - val_loss: 2.0799 - val_categorical_accuracy: 0.4740 - val_top3_acc: 0.6520\n",
      "Epoch 17/100\n",
      "5076/5076 [==============================] - 1s 219us/step - loss: 1.4911 - categorical_accuracy: 0.5851 - top3_acc: 0.7752 - val_loss: 2.0600 - val_categorical_accuracy: 0.4732 - val_top3_acc: 0.6543\n",
      "Epoch 18/100\n",
      "5076/5076 [==============================] - 1s 240us/step - loss: 1.4600 - categorical_accuracy: 0.5916 - top3_acc: 0.7886 - val_loss: 2.0360 - val_categorical_accuracy: 0.4709 - val_top3_acc: 0.6661\n",
      "Epoch 19/100\n",
      "5076/5076 [==============================] - 1s 227us/step - loss: 1.4064 - categorical_accuracy: 0.6046 - top3_acc: 0.7959 - val_loss: 2.0366 - val_categorical_accuracy: 0.4803 - val_top3_acc: 0.6638\n",
      "Epoch 20/100\n",
      "5076/5076 [==============================] - 1s 186us/step - loss: 1.3834 - categorical_accuracy: 0.6151 - top3_acc: 0.8004 - val_loss: 2.0228 - val_categorical_accuracy: 0.4945 - val_top3_acc: 0.6772\n",
      "Epoch 21/100\n",
      "5076/5076 [==============================] - 1s 241us/step - loss: 1.3491 - categorical_accuracy: 0.6214 - top3_acc: 0.8046 - val_loss: 2.0170 - val_categorical_accuracy: 0.4929 - val_top3_acc: 0.6669\n",
      "Epoch 22/100\n",
      "5076/5076 [==============================] - 1s 224us/step - loss: 1.3011 - categorical_accuracy: 0.6316 - top3_acc: 0.8125 - val_loss: 2.0358 - val_categorical_accuracy: 0.4929 - val_top3_acc: 0.6669\n",
      "Epoch 23/100\n",
      "5076/5076 [==============================] - 1s 192us/step - loss: 1.2845 - categorical_accuracy: 0.6346 - top3_acc: 0.8156 - val_loss: 2.0275 - val_categorical_accuracy: 0.4969 - val_top3_acc: 0.6756\n",
      "Epoch 24/100\n",
      "5076/5076 [==============================] - 1s 227us/step - loss: 1.2406 - categorical_accuracy: 0.6478 - top3_acc: 0.8235 - val_loss: 2.0303 - val_categorical_accuracy: 0.4953 - val_top3_acc: 0.6795\n",
      "Epoch 25/100\n",
      "5076/5076 [==============================] - 1s 248us/step - loss: 1.2056 - categorical_accuracy: 0.6631 - top3_acc: 0.8329 - val_loss: 2.0167 - val_categorical_accuracy: 0.4961 - val_top3_acc: 0.6709\n",
      "Epoch 26/100\n",
      "5076/5076 [==============================] - 1s 205us/step - loss: 1.1671 - categorical_accuracy: 0.6671 - top3_acc: 0.8383 - val_loss: 2.0804 - val_categorical_accuracy: 0.5055 - val_top3_acc: 0.6748\n",
      "Epoch 27/100\n",
      "5076/5076 [==============================] - 1s 202us/step - loss: 1.1683 - categorical_accuracy: 0.6649 - top3_acc: 0.8388 - val_loss: 2.0573 - val_categorical_accuracy: 0.4984 - val_top3_acc: 0.6819\n",
      "Epoch 28/100\n",
      "5076/5076 [==============================] - 1s 242us/step - loss: 1.1288 - categorical_accuracy: 0.6791 - top3_acc: 0.8440 - val_loss: 2.1109 - val_categorical_accuracy: 0.4929 - val_top3_acc: 0.6693\n",
      "Epoch 29/100\n",
      "5076/5076 [==============================] - 1s 222us/step - loss: 1.1037 - categorical_accuracy: 0.6866 - top3_acc: 0.8513 - val_loss: 2.1014 - val_categorical_accuracy: 0.4976 - val_top3_acc: 0.6693\n",
      "Epoch 30/100\n",
      "5076/5076 [==============================] - 1s 198us/step - loss: 1.0563 - categorical_accuracy: 0.6941 - top3_acc: 0.8613 - val_loss: 2.0481 - val_categorical_accuracy: 0.5157 - val_top3_acc: 0.6795\n",
      "Epoch 31/100\n",
      "5076/5076 [==============================] - 1s 193us/step - loss: 1.0289 - categorical_accuracy: 0.7053 - top3_acc: 0.8623 - val_loss: 2.1003 - val_categorical_accuracy: 0.5024 - val_top3_acc: 0.6709\n",
      "Epoch 32/100\n",
      "5076/5076 [==============================] - 1s 204us/step - loss: 1.0090 - categorical_accuracy: 0.7118 - top3_acc: 0.8656 - val_loss: 2.1145 - val_categorical_accuracy: 0.5031 - val_top3_acc: 0.6772\n",
      "Epoch 33/100\n",
      "5076/5076 [==============================] - 1s 231us/step - loss: 0.9772 - categorical_accuracy: 0.7181 - top3_acc: 0.8739 - val_loss: 2.1377 - val_categorical_accuracy: 0.5055 - val_top3_acc: 0.6772\n",
      "Epoch 34/100\n",
      "5076/5076 [==============================] - 1s 229us/step - loss: 0.9587 - categorical_accuracy: 0.7264 - top3_acc: 0.8790 - val_loss: 2.1561 - val_categorical_accuracy: 0.5024 - val_top3_acc: 0.6748\n",
      "Epoch 35/100\n",
      "5076/5076 [==============================] - 1s 177us/step - loss: 0.9378 - categorical_accuracy: 0.7283 - top3_acc: 0.8775 - val_loss: 2.1554 - val_categorical_accuracy: 0.5031 - val_top3_acc: 0.6756\n",
      "Epoch 36/100\n",
      "5076/5076 [==============================] - 1s 243us/step - loss: 0.9084 - categorical_accuracy: 0.7398 - top3_acc: 0.8875 - val_loss: 2.1772 - val_categorical_accuracy: 0.5031 - val_top3_acc: 0.6717\n",
      "Epoch 37/100\n",
      "5076/5076 [==============================] - 1s 249us/step - loss: 0.8802 - categorical_accuracy: 0.7468 - top3_acc: 0.8942 - val_loss: 2.2329 - val_categorical_accuracy: 0.5031 - val_top3_acc: 0.6740\n",
      "Epoch 38/100\n",
      "5076/5076 [==============================] - 1s 236us/step - loss: 0.8520 - categorical_accuracy: 0.7573 - top3_acc: 0.8946 - val_loss: 2.2331 - val_categorical_accuracy: 0.5031 - val_top3_acc: 0.6772\n",
      "Epoch 39/100\n",
      "5076/5076 [==============================] - 1s 208us/step - loss: 0.8324 - categorical_accuracy: 0.7571 - top3_acc: 0.8956 - val_loss: 2.2587 - val_categorical_accuracy: 0.5039 - val_top3_acc: 0.6661\n",
      "Epoch 40/100\n",
      "5076/5076 [==============================] - 1s 185us/step - loss: 0.8314 - categorical_accuracy: 0.7622 - top3_acc: 0.8980 - val_loss: 2.2486 - val_categorical_accuracy: 0.4969 - val_top3_acc: 0.6740\n",
      "Epoch 41/100\n",
      "5076/5076 [==============================] - 1s 229us/step - loss: 0.8071 - categorical_accuracy: 0.7650 - top3_acc: 0.9046 - val_loss: 2.3080 - val_categorical_accuracy: 0.4913 - val_top3_acc: 0.6724\n",
      "Epoch 42/100\n",
      "5076/5076 [==============================] - 1s 194us/step - loss: 0.7732 - categorical_accuracy: 0.7774 - top3_acc: 0.9062 - val_loss: 2.3274 - val_categorical_accuracy: 0.4961 - val_top3_acc: 0.6677\n",
      "Epoch 43/100\n",
      "5076/5076 [==============================] - 1s 225us/step - loss: 0.7363 - categorical_accuracy: 0.7890 - top3_acc: 0.9145 - val_loss: 2.4001 - val_categorical_accuracy: 0.4976 - val_top3_acc: 0.6669\n",
      "Epoch 44/100\n",
      "5076/5076 [==============================] - 1s 227us/step - loss: 0.7230 - categorical_accuracy: 0.7939 - top3_acc: 0.9169 - val_loss: 2.3782 - val_categorical_accuracy: 0.5071 - val_top3_acc: 0.6701\n",
      "Epoch 45/100\n",
      "5076/5076 [==============================] - 1s 230us/step - loss: 0.7203 - categorical_accuracy: 0.7918 - top3_acc: 0.9198 - val_loss: 2.3937 - val_categorical_accuracy: 0.5118 - val_top3_acc: 0.6717\n",
      "Epoch 46/100\n",
      "5076/5076 [==============================] - 1s 241us/step - loss: 0.7062 - categorical_accuracy: 0.7916 - top3_acc: 0.9196 - val_loss: 2.4072 - val_categorical_accuracy: 0.4969 - val_top3_acc: 0.6811\n",
      "Epoch 47/100\n",
      "5076/5076 [==============================] - 1s 203us/step - loss: 0.6767 - categorical_accuracy: 0.8042 - top3_acc: 0.9212 - val_loss: 2.4491 - val_categorical_accuracy: 0.4929 - val_top3_acc: 0.6717\n",
      "Epoch 48/100\n",
      "5076/5076 [==============================] - 1s 180us/step - loss: 0.6620 - categorical_accuracy: 0.8117 - top3_acc: 0.9285 - val_loss: 2.4477 - val_categorical_accuracy: 0.4984 - val_top3_acc: 0.6811\n",
      "Epoch 49/100\n",
      "5076/5076 [==============================] - 1s 205us/step - loss: 0.6202 - categorical_accuracy: 0.8237 - top3_acc: 0.9314 - val_loss: 2.5065 - val_categorical_accuracy: 0.5063 - val_top3_acc: 0.6772\n",
      "Epoch 50/100\n",
      "5076/5076 [==============================] - 1s 189us/step - loss: 0.6116 - categorical_accuracy: 0.8235 - top3_acc: 0.9338 - val_loss: 2.5170 - val_categorical_accuracy: 0.4984 - val_top3_acc: 0.6795\n",
      "Epoch 51/100\n",
      "5076/5076 [==============================] - 1s 194us/step - loss: 0.6018 - categorical_accuracy: 0.8282 - top3_acc: 0.9362 - val_loss: 2.5746 - val_categorical_accuracy: 0.4921 - val_top3_acc: 0.6630\n",
      "Epoch 52/100\n",
      "5076/5076 [==============================] - 1s 219us/step - loss: 0.6002 - categorical_accuracy: 0.8233 - top3_acc: 0.9389 - val_loss: 2.5571 - val_categorical_accuracy: 0.4961 - val_top3_acc: 0.6732\n",
      "Epoch 53/100\n",
      "5076/5076 [==============================] - 1s 173us/step - loss: 0.5656 - categorical_accuracy: 0.8371 - top3_acc: 0.9427 - val_loss: 2.6311 - val_categorical_accuracy: 0.4748 - val_top3_acc: 0.6693\n",
      "Epoch 54/100\n",
      "5076/5076 [==============================] - 1s 176us/step - loss: 0.5620 - categorical_accuracy: 0.8369 - top3_acc: 0.9435 - val_loss: 2.6147 - val_categorical_accuracy: 0.4921 - val_top3_acc: 0.6630\n",
      "Epoch 55/100\n",
      "5076/5076 [==============================] - 1s 218us/step - loss: 0.5261 - categorical_accuracy: 0.8517 - top3_acc: 0.9478 - val_loss: 2.6761 - val_categorical_accuracy: 0.4850 - val_top3_acc: 0.6740\n",
      "Epoch 56/100\n",
      "5076/5076 [==============================] - 1s 189us/step - loss: 0.5046 - categorical_accuracy: 0.8582 - top3_acc: 0.9506 - val_loss: 2.7267 - val_categorical_accuracy: 0.4906 - val_top3_acc: 0.6685\n",
      "Epoch 57/100\n",
      "5076/5076 [==============================] - 1s 187us/step - loss: 0.4917 - categorical_accuracy: 0.8607 - top3_acc: 0.9545 - val_loss: 2.7003 - val_categorical_accuracy: 0.4953 - val_top3_acc: 0.6654\n",
      "Epoch 58/100\n",
      "5076/5076 [==============================] - 1s 188us/step - loss: 0.4785 - categorical_accuracy: 0.8633 - top3_acc: 0.9545 - val_loss: 2.7743 - val_categorical_accuracy: 0.4890 - val_top3_acc: 0.6685\n",
      "Epoch 59/100\n",
      "5076/5076 [==============================] - 1s 192us/step - loss: 0.4486 - categorical_accuracy: 0.8771 - top3_acc: 0.9586 - val_loss: 2.7758 - val_categorical_accuracy: 0.4906 - val_top3_acc: 0.6732\n",
      "Epoch 60/100\n",
      "5076/5076 [==============================] - 1s 198us/step - loss: 0.4363 - categorical_accuracy: 0.8767 - top3_acc: 0.9620 - val_loss: 2.7901 - val_categorical_accuracy: 0.4921 - val_top3_acc: 0.6614\n",
      "Epoch 61/100\n",
      "5076/5076 [==============================] - 1s 183us/step - loss: 0.4193 - categorical_accuracy: 0.8887 - top3_acc: 0.9630 - val_loss: 2.8223 - val_categorical_accuracy: 0.5024 - val_top3_acc: 0.6803\n",
      "Epoch 62/100\n",
      "5076/5076 [==============================] - 1s 199us/step - loss: 0.4077 - categorical_accuracy: 0.8936 - top3_acc: 0.9669 - val_loss: 2.8686 - val_categorical_accuracy: 0.4976 - val_top3_acc: 0.6724\n",
      "Epoch 63/100\n",
      "5076/5076 [==============================] - 1s 195us/step - loss: 0.4205 - categorical_accuracy: 0.8779 - top3_acc: 0.9661 - val_loss: 2.9503 - val_categorical_accuracy: 0.4898 - val_top3_acc: 0.6732\n",
      "Epoch 64/100\n",
      "5076/5076 [==============================] - 1s 219us/step - loss: 0.4019 - categorical_accuracy: 0.8849 - top3_acc: 0.9671 - val_loss: 2.9743 - val_categorical_accuracy: 0.4787 - val_top3_acc: 0.6669\n",
      "Epoch 65/100\n",
      "5076/5076 [==============================] - 1s 183us/step - loss: 0.3767 - categorical_accuracy: 0.8962 - top3_acc: 0.9689 - val_loss: 2.9557 - val_categorical_accuracy: 0.4961 - val_top3_acc: 0.6646\n",
      "Epoch 66/100\n",
      "5076/5076 [==============================] - 1s 193us/step - loss: 0.3590 - categorical_accuracy: 0.9013 - top3_acc: 0.9724 - val_loss: 2.9723 - val_categorical_accuracy: 0.4976 - val_top3_acc: 0.6717\n",
      "Epoch 67/100\n",
      "5076/5076 [==============================] - 1s 196us/step - loss: 0.3478 - categorical_accuracy: 0.9074 - top3_acc: 0.9740 - val_loss: 2.9994 - val_categorical_accuracy: 0.4992 - val_top3_acc: 0.6764\n",
      "Epoch 68/100\n",
      "5076/5076 [==============================] - 1s 248us/step - loss: 0.3401 - categorical_accuracy: 0.9074 - top3_acc: 0.9754 - val_loss: 3.0607 - val_categorical_accuracy: 0.4803 - val_top3_acc: 0.6654\n",
      "Epoch 69/100\n",
      "5076/5076 [==============================] - 1s 227us/step - loss: 0.3269 - categorical_accuracy: 0.9129 - top3_acc: 0.9744 - val_loss: 3.0918 - val_categorical_accuracy: 0.5087 - val_top3_acc: 0.6677\n",
      "Epoch 70/100\n",
      "5076/5076 [==============================] - 1s 219us/step - loss: 0.3141 - categorical_accuracy: 0.9159 - top3_acc: 0.9777 - val_loss: 3.1185 - val_categorical_accuracy: 0.4882 - val_top3_acc: 0.6669\n",
      "Epoch 71/100\n",
      "5076/5076 [==============================] - 1s 207us/step - loss: 0.3081 - categorical_accuracy: 0.9169 - top3_acc: 0.9781 - val_loss: 3.1278 - val_categorical_accuracy: 0.4874 - val_top3_acc: 0.6606\n",
      "Epoch 72/100\n",
      "5076/5076 [==============================] - 1s 188us/step - loss: 0.2912 - categorical_accuracy: 0.9238 - top3_acc: 0.9789 - val_loss: 3.1888 - val_categorical_accuracy: 0.4890 - val_top3_acc: 0.6622\n",
      "Epoch 73/100\n",
      "5076/5076 [==============================] - 1s 174us/step - loss: 0.2699 - categorical_accuracy: 0.9297 - top3_acc: 0.9825 - val_loss: 3.2319 - val_categorical_accuracy: 0.4937 - val_top3_acc: 0.6693\n",
      "Epoch 74/100\n",
      "5076/5076 [==============================] - 1s 178us/step - loss: 0.2592 - categorical_accuracy: 0.9358 - top3_acc: 0.9829 - val_loss: 3.2656 - val_categorical_accuracy: 0.4906 - val_top3_acc: 0.6622\n",
      "Epoch 75/100\n",
      "5076/5076 [==============================] - 1s 196us/step - loss: 0.2703 - categorical_accuracy: 0.9277 - top3_acc: 0.9821 - val_loss: 3.3023 - val_categorical_accuracy: 0.4811 - val_top3_acc: 0.6693\n",
      "Epoch 76/100\n",
      "5076/5076 [==============================] - 1s 198us/step - loss: 0.2766 - categorical_accuracy: 0.9281 - top3_acc: 0.9835 - val_loss: 3.3430 - val_categorical_accuracy: 0.4850 - val_top3_acc: 0.6630\n",
      "Epoch 77/100\n"
     ]
    },
    {
     "name": "stdout",
     "output_type": "stream",
     "text": [
      "5076/5076 [==============================] - 1s 221us/step - loss: 0.2536 - categorical_accuracy: 0.9340 - top3_acc: 0.9864 - val_loss: 3.3037 - val_categorical_accuracy: 0.4945 - val_top3_acc: 0.6693\n",
      "Epoch 78/100\n",
      "5076/5076 [==============================] - 1s 189us/step - loss: 0.2375 - categorical_accuracy: 0.9377 - top3_acc: 0.9864 - val_loss: 3.4298 - val_categorical_accuracy: 0.4937 - val_top3_acc: 0.6535\n",
      "Epoch 79/100\n",
      "5076/5076 [==============================] - 1s 212us/step - loss: 0.2378 - categorical_accuracy: 0.9354 - top3_acc: 0.9876 - val_loss: 3.3999 - val_categorical_accuracy: 0.4898 - val_top3_acc: 0.6567\n",
      "Epoch 80/100\n",
      "5076/5076 [==============================] - 1s 182us/step - loss: 0.2288 - categorical_accuracy: 0.9405 - top3_acc: 0.9890 - val_loss: 3.4247 - val_categorical_accuracy: 0.4866 - val_top3_acc: 0.6646\n",
      "Epoch 81/100\n",
      "5076/5076 [==============================] - 1s 173us/step - loss: 0.2079 - categorical_accuracy: 0.9427 - top3_acc: 0.9905 - val_loss: 3.4787 - val_categorical_accuracy: 0.4953 - val_top3_acc: 0.6669\n",
      "Epoch 82/100\n",
      "5076/5076 [==============================] - 1s 168us/step - loss: 0.1916 - categorical_accuracy: 0.9504 - top3_acc: 0.9907 - val_loss: 3.4742 - val_categorical_accuracy: 0.4850 - val_top3_acc: 0.6717\n",
      "Epoch 83/100\n",
      "5076/5076 [==============================] - 1s 172us/step - loss: 0.1946 - categorical_accuracy: 0.9486 - top3_acc: 0.9907 - val_loss: 3.4841 - val_categorical_accuracy: 0.4913 - val_top3_acc: 0.6669\n",
      "Epoch 84/100\n",
      "5076/5076 [==============================] - 1s 185us/step - loss: 0.1762 - categorical_accuracy: 0.9588 - top3_acc: 0.9923 - val_loss: 3.5500 - val_categorical_accuracy: 0.4906 - val_top3_acc: 0.6551\n",
      "Epoch 85/100\n",
      "5076/5076 [==============================] - 1s 176us/step - loss: 0.1719 - categorical_accuracy: 0.9590 - top3_acc: 0.9923 - val_loss: 3.5589 - val_categorical_accuracy: 0.4945 - val_top3_acc: 0.6669\n",
      "Epoch 86/100\n",
      "5076/5076 [==============================] - 1s 184us/step - loss: 0.1782 - categorical_accuracy: 0.9547 - top3_acc: 0.9931 - val_loss: 3.6377 - val_categorical_accuracy: 0.4795 - val_top3_acc: 0.6614\n",
      "Epoch 87/100\n",
      "5076/5076 [==============================] - 1s 172us/step - loss: 0.1717 - categorical_accuracy: 0.9551 - top3_acc: 0.9929 - val_loss: 3.6459 - val_categorical_accuracy: 0.4772 - val_top3_acc: 0.6646\n",
      "Epoch 88/100\n",
      "5076/5076 [==============================] - 1s 188us/step - loss: 0.1528 - categorical_accuracy: 0.9659 - top3_acc: 0.9953 - val_loss: 3.6809 - val_categorical_accuracy: 0.4819 - val_top3_acc: 0.6724\n",
      "Epoch 89/100\n",
      "5076/5076 [==============================] - 1s 185us/step - loss: 0.1516 - categorical_accuracy: 0.9679 - top3_acc: 0.9953 - val_loss: 3.7889 - val_categorical_accuracy: 0.4827 - val_top3_acc: 0.6669\n",
      "Epoch 90/100\n",
      "5076/5076 [==============================] - 1s 194us/step - loss: 0.1404 - categorical_accuracy: 0.9708 - top3_acc: 0.9953 - val_loss: 3.7517 - val_categorical_accuracy: 0.4882 - val_top3_acc: 0.6598\n",
      "Epoch 91/100\n",
      "5076/5076 [==============================] - 1s 175us/step - loss: 0.1260 - categorical_accuracy: 0.9744 - top3_acc: 0.9957 - val_loss: 3.7615 - val_categorical_accuracy: 0.4969 - val_top3_acc: 0.6654\n",
      "Epoch 92/100\n",
      "5076/5076 [==============================] - 1s 184us/step - loss: 0.1272 - categorical_accuracy: 0.9730 - top3_acc: 0.9959 - val_loss: 3.8127 - val_categorical_accuracy: 0.4906 - val_top3_acc: 0.6701\n",
      "Epoch 93/100\n",
      "5076/5076 [==============================] - 1s 197us/step - loss: 0.1188 - categorical_accuracy: 0.9752 - top3_acc: 0.9961 - val_loss: 3.8431 - val_categorical_accuracy: 0.4835 - val_top3_acc: 0.6661\n",
      "Epoch 94/100\n",
      "5076/5076 [==============================] - 1s 230us/step - loss: 0.1272 - categorical_accuracy: 0.9722 - top3_acc: 0.9968 - val_loss: 3.8666 - val_categorical_accuracy: 0.4913 - val_top3_acc: 0.6724\n",
      "Epoch 95/100\n",
      "5076/5076 [==============================] - 1s 226us/step - loss: 0.1198 - categorical_accuracy: 0.9752 - top3_acc: 0.9968 - val_loss: 3.9549 - val_categorical_accuracy: 0.4827 - val_top3_acc: 0.6591\n",
      "Epoch 96/100\n",
      "5076/5076 [==============================] - 1s 219us/step - loss: 0.1251 - categorical_accuracy: 0.9734 - top3_acc: 0.9965 - val_loss: 3.9196 - val_categorical_accuracy: 0.4811 - val_top3_acc: 0.6567\n",
      "Epoch 97/100\n",
      "5076/5076 [==============================] - 1s 163us/step - loss: 0.1146 - categorical_accuracy: 0.9762 - top3_acc: 0.9965 - val_loss: 3.9664 - val_categorical_accuracy: 0.4787 - val_top3_acc: 0.6661\n",
      "Epoch 98/100\n",
      "5076/5076 [==============================] - 1s 191us/step - loss: 0.1032 - categorical_accuracy: 0.9773 - top3_acc: 0.9974 - val_loss: 3.9227 - val_categorical_accuracy: 0.4898 - val_top3_acc: 0.6622\n",
      "Epoch 99/100\n",
      "5076/5076 [==============================] - 1s 214us/step - loss: 0.1124 - categorical_accuracy: 0.9750 - top3_acc: 0.9974 - val_loss: 4.0684 - val_categorical_accuracy: 0.4772 - val_top3_acc: 0.6559\n",
      "Epoch 100/100\n",
      "5076/5076 [==============================] - 1s 196us/step - loss: 0.1531 - categorical_accuracy: 0.9586 - top3_acc: 0.9957 - val_loss: 4.0106 - val_categorical_accuracy: 0.4858 - val_top3_acc: 0.6701\n"
     ]
    }
   ],
   "source": [
    "# Here the split is done in the fit method, so we can follow the validation loss/acc in real time too\n",
    "history = model.fit(X_train, y_train_ohe, epochs=100, batch_size=200, validation_split=0.2)"
   ]
  },
  {
   "cell_type": "code",
   "execution_count": 24,
   "metadata": {},
   "outputs": [
    {
     "data": {
      "image/png": "[encoded data removed]",
      "text/plain": [
       "<Figure size 1440x720 with 6 Axes>"
      ]
     },
     "metadata": {},
     "output_type": "display_data"
    }
   ],
   "source": [
    "plt.figure(figsize=(20,10))\n",
    "\n",
    "for i, (name, values) in enumerate(history.history.items()):\n",
    "    plt.subplot(1, len(history.history.items()), i+1)\n",
    "    plt.plot(values)\n",
    "    plt.title(name)"
   ]
  },
  {
   "cell_type": "markdown",
   "metadata": {},
   "source": [
    "### Assessing accuracy"
   ]
  },
  {
   "cell_type": "code",
   "execution_count": 25,
   "metadata": {},
   "outputs": [
    {
     "data": {
      "text/plain": [
       "<matplotlib.legend.Legend at 0x7f3a0c0fc6d8>"
      ]
     },
     "execution_count": 25,
     "metadata": {},
     "output_type": "execute_result"
    },
    {
     "data": {
      "image/png": "[encoded data removed]",
      "text/plain": [
       "<Figure size 432x288 with 1 Axes>"
      ]
     },
     "metadata": {},
     "output_type": "display_data"
    }
   ],
   "source": [
    "plt.figure()\n",
    "plt.plot(history.history['val_categorical_accuracy'], label='validation accuracy')\n",
    "plt.title(\"Validation accuracy through epochs\")\n",
    "plt.legend()"
   ]
  },
  {
   "cell_type": "code",
   "execution_count": 26,
   "metadata": {},
   "outputs": [
    {
     "name": "stdout",
     "output_type": "stream",
     "text": [
      "Accuracy: \n",
      "0.4723377038695235\n",
      "\n",
      "\n",
      "\n",
      "Confusion matrix: \n",
      "[[49  0  1 ...  0  1  2]\n",
      " [ 0 82  1 ...  0  0  2]\n",
      " [ 0  7 46 ...  1  0  4]\n",
      " ...\n",
      " [ 3  3  4 ... 27  2  2]\n",
      " [ 0  1  0 ...  1 72  0]\n",
      " [ 2  3  2 ...  0  0 49]]\n",
      "\n",
      "\n",
      "\n",
      "                       precision    recall  f1-score   support\n",
      "\n",
      "      Acoustic_guitar       0.54      0.49      0.52        99\n",
      "             Applause       0.55      0.83      0.66        99\n",
      "                 Bark       0.40      0.58      0.48        79\n",
      "            Bass_drum       0.55      0.84      0.66        99\n",
      "Burping_or_eructation       0.75      0.70      0.72        69\n",
      "                  Bus       0.00      0.00      0.00        36\n",
      "                Cello       0.58      0.66      0.62        99\n",
      "                Chime       0.67      0.16      0.26        38\n",
      "             Clarinet       0.69      0.67      0.68        99\n",
      "    Computer_keyboard       0.00      0.00      0.00        39\n",
      "                Cough       0.36      0.33      0.34        80\n",
      "              Cowbell       0.90      0.75      0.82        63\n",
      "          Double_bass       0.53      0.74      0.61        99\n",
      " Drawer_open_or_close       0.00      0.00      0.00        52\n",
      "       Electric_piano       0.47      0.42      0.44        50\n",
      "                 Fart       0.26      0.45      0.33        99\n",
      "      Finger_snapping       0.76      0.56      0.65        39\n",
      "            Fireworks       0.18      0.28      0.22        99\n",
      "                Flute       0.43      0.48      0.46        99\n",
      "         Glockenspiel       0.86      0.19      0.32        31\n",
      "                 Gong       0.63      0.32      0.43        96\n",
      "   Gunshot_or_gunfire       0.00      0.00      0.00        49\n",
      "            Harmonica       0.67      0.51      0.58        55\n",
      "               Hi-hat       0.58      0.70      0.63        99\n",
      "        Keys_jangling       0.60      0.33      0.42        46\n",
      "                Knock       0.33      0.37      0.35        92\n",
      "             Laughter       0.33      0.18      0.23        99\n",
      "                 Meow       0.61      0.27      0.38        51\n",
      "       Microwave_oven       0.67      0.04      0.08        48\n",
      "                 Oboe       0.70      0.96      0.81        99\n",
      "            Saxophone       0.54      0.57      0.55        99\n",
      "             Scissors       0.00      0.00      0.00        31\n",
      "              Shatter       0.33      0.44      0.38        99\n",
      "           Snare_drum       0.53      0.66      0.59        99\n",
      "               Squeak       0.12      0.07      0.09        99\n",
      "           Tambourine       0.78      0.70      0.74        73\n",
      "              Tearing       0.24      0.33      0.28        99\n",
      "            Telephone       1.00      0.15      0.26        40\n",
      "              Trumpet       0.46      0.27      0.34        99\n",
      "     Violin_or_fiddle       0.63      0.73      0.67        99\n",
      "              Writing       0.24      0.55      0.34        89\n",
      "\n",
      "          avg / total       0.47      0.47      0.45      3127\n",
      "\n"
     ]
    },
    {
     "name": "stderr",
     "output_type": "stream",
     "text": [
      "/home/lucas/anaconda3/envs/sdd/lib/python3.6/site-packages/sklearn/metrics/classification.py:1135: UndefinedMetricWarning: Precision and F-score are ill-defined and being set to 0.0 in labels with no predicted samples.\n",
      "  'precision', 'predicted', average, warn_for)\n"
     ]
    }
   ],
   "source": [
    "prediction = model.predict(X_test).argmax(axis=1)\n",
    "print(\"Accuracy: \")\n",
    "print(accuracy_score(y_test, prediction))\n",
    "print(\"\\n\\n\")\n",
    "print(\"Confusion matrix: \")\n",
    "print(confusion_matrix(y_test, prediction))\n",
    "print(\"\\n\\n\")\n",
    "print(classification_report(y_test, prediction, target_names=list_labels))"
   ]
  },
  {
   "cell_type": "markdown",
   "metadata": {},
   "source": [
    "## Training a decision tree"
   ]
  },
  {
   "cell_type": "markdown",
   "metadata": {},
   "source": [
    "### Training and predicting"
   ]
  },
  {
   "cell_type": "code",
   "execution_count": null,
   "metadata": {},
   "outputs": [],
   "source": [
    "model_xgbc = XGBClassifier()\n",
    "model_xgbc.fit(X_train, y_train)"
   ]
  },
  {
   "cell_type": "code",
   "execution_count": null,
   "metadata": {},
   "outputs": [],
   "source": [
    "prediction = model_xgbc.predict(X_test)"
   ]
  },
  {
   "cell_type": "markdown",
   "metadata": {},
   "source": [
    "### Assessing accuracy"
   ]
  },
  {
   "cell_type": "code",
   "execution_count": null,
   "metadata": {},
   "outputs": [],
   "source": [
    "print(\"Accuracy: \")\n",
    "print(accuracy_score(y_test, prediction))\n",
    "print(\"\\n\\n\")\n",
    "print(\"Confusion matrix: \")\n",
    "print(confusion_matrix(y_test, prediction))\n",
    "print(\"\\n\\n\")\n",
    "print(classification_report(y_test, prediction, target_names=list_labels))"
   ]
  },
  {
   "cell_type": "code",
   "execution_count": null,
   "metadata": {},
   "outputs": [],
   "source": [
    "plt.bar(range(len(model_xgbc.feature_importances_)), model_xgbc.feature_importances_)\n",
    "plt.show()"
   ]
  },
  {
   "cell_type": "code",
   "execution_count": null,
   "metadata": {},
   "outputs": [],
   "source": [
    "from xgboost import plot_importance\n",
    "\n",
    "plot_importance(model_xgbc)\n",
    "plt.show()"
   ]
  },
  {
   "cell_type": "code",
   "execution_count": null,
   "metadata": {},
   "outputs": [],
   "source": []
  }
 ],
 "metadata": {
  "kernelspec": {
   "display_name": "Python 3",
   "language": "python",
   "name": "python3"
  },
  "language_info": {
   "codemirror_mode": {
    "name": "ipython",
    "version": 3
   },
   "file_extension": ".py",
   "mimetype": "text/x-python",
   "name": "python",
   "nbconvert_exporter": "python",
   "pygments_lexer": "ipython3",
   "version": "3.6.6"
  },
  "toc": {
   "base_numbering": 1,
   "nav_menu": {},
   "number_sections": true,
   "sideBar": true,
   "skip_h1_title": false,
   "title_cell": "Table of Contents",
   "title_sidebar": "Contents",
   "toc_cell": false,
   "toc_position": {},
   "toc_section_display": true,
   "toc_window_display": false
  }
 },
 "nbformat": 4,
 "nbformat_minor": 2
}
